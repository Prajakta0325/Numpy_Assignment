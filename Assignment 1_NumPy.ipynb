{
 "cells": [
  {
   "cell_type": "markdown",
   "id": "e0146a2d",
   "metadata": {},
   "source": [
    "1. Create a null vector of size 10 but the fifth value which is 1."
   ]
  },
  {
   "cell_type": "code",
   "execution_count": 1,
   "id": "12fd6a9b",
   "metadata": {},
   "outputs": [],
   "source": [
    "import pandas as pd\n",
    "import numpy as np"
   ]
  },
  {
   "cell_type": "code",
   "execution_count": 29,
   "id": "7a44cb53",
   "metadata": {},
   "outputs": [
    {
     "name": "stdout",
     "output_type": "stream",
     "text": [
      "[0. 0. 0. 0. 1. 0. 0. 0. 0. 0.]\n"
     ]
    }
   ],
   "source": [
    "a= np.zeros(10)\n",
    "a[4]=1\n",
    "print(a)"
   ]
  },
  {
   "cell_type": "markdown",
   "id": "d9952fe9",
   "metadata": {},
   "source": []
  },
  {
   "cell_type": "markdown",
   "id": "9e04386c",
   "metadata": {},
   "source": [
    "2. Create a vector with values ranging from 10 to 49."
   ]
  },
  {
   "cell_type": "code",
   "execution_count": 24,
   "id": "29e8b1b2",
   "metadata": {},
   "outputs": [
    {
     "data": {
      "text/plain": [
       "array([10, 11, 12, 13, 14, 15, 16, 17, 18, 19, 20, 21, 22, 23, 24, 25, 26,\n",
       "       27, 28, 29, 30, 31, 32, 33, 34, 35, 36, 37, 38, 39, 40, 41, 42, 43,\n",
       "       44, 45, 46, 47, 48, 49])"
      ]
     },
     "execution_count": 24,
     "metadata": {},
     "output_type": "execute_result"
    }
   ],
   "source": [
    "a1= np.arange(10,50)\n",
    "a1"
   ]
  },
  {
   "cell_type": "markdown",
   "id": "c12c468b",
   "metadata": {},
   "source": []
  },
  {
   "cell_type": "markdown",
   "id": "48ed3572",
   "metadata": {},
   "source": [
    "3. Create a 3x3 matrix with values ranging from 0 to 8"
   ]
  },
  {
   "cell_type": "code",
   "execution_count": 3,
   "id": "44c2ac3d",
   "metadata": {},
   "outputs": [
    {
     "data": {
      "text/plain": [
       "array([[0, 1, 2],\n",
       "       [3, 4, 5],\n",
       "       [6, 7, 8]])"
      ]
     },
     "execution_count": 3,
     "metadata": {},
     "output_type": "execute_result"
    }
   ],
   "source": [
    "arr= np.arange(0,9).reshape(3,3)\n",
    "arr"
   ]
  },
  {
   "cell_type": "markdown",
   "id": "aa3d3a39",
   "metadata": {},
   "source": []
  },
  {
   "cell_type": "markdown",
   "id": "40e30c57",
   "metadata": {},
   "source": [
    "4. Find indices of non-zero elements from [1,2,0,0,4,0]"
   ]
  },
  {
   "cell_type": "code",
   "execution_count": 23,
   "id": "98e34e7b",
   "metadata": {},
   "outputs": [
    {
     "name": "stdout",
     "output_type": "stream",
     "text": [
      "[1 2 0 0 4 0]\n",
      "Index 0\n",
      "Index 1\n",
      "Index 4\n"
     ]
    }
   ],
   "source": [
    "arr1 = np.array([1,2,0,0,4,0])\n",
    "print(arr1)\n",
    "for i in range(6):\n",
    "    if arr1[i]!=0:\n",
    "        print(\"Index\",i)"
   ]
  },
  {
   "cell_type": "markdown",
   "id": "ebb325e2",
   "metadata": {},
   "source": []
  },
  {
   "cell_type": "markdown",
   "id": "044849a9",
   "metadata": {},
   "source": [
    "5. Create a 10x10 array with random values and find the minimum and maximum values."
   ]
  },
  {
   "cell_type": "code",
   "execution_count": 14,
   "id": "824fc3f4",
   "metadata": {},
   "outputs": [
    {
     "name": "stdout",
     "output_type": "stream",
     "text": [
      "[[17 25 26 36 26 28 46 18 20 31]\n",
      " [44 16 38 32 40 23 31 34 35 45]\n",
      " [14 14 50 37 30 11 14 10 14 39]\n",
      " [18 43 23 36 37 12 44 43 26 25]\n",
      " [27 11 27 11 19 42 31 11 18 37]\n",
      " [33 29 19 46 24 12 34 15 17 31]\n",
      " [28 42 16 32 45 46 22 16 45 26]\n",
      " [29 20 42 28 12 42 48 14 13 16]\n",
      " [21 16 19 35 38 28 29 24 10 19]\n",
      " [20 13 42 46 30 46 15 43 14 49]]\n",
      "Minimum Value :  10\n",
      "Maximum Value :  50\n"
     ]
    }
   ],
   "source": [
    "arr2= np.random.randint(10,51,size=(10,10))\n",
    "print(arr2)\n",
    "print(\"Minimum Value : \",np.min(arr2))\n",
    "print(\"Maximum Value : \",np.max(arr2))"
   ]
  },
  {
   "cell_type": "raw",
   "id": "4f91f238",
   "metadata": {},
   "source": []
  },
  {
   "cell_type": "markdown",
   "id": "f29b55e9",
   "metadata": {},
   "source": [
    "6. Create a random vector of size 30 and find the mean value."
   ]
  },
  {
   "cell_type": "code",
   "execution_count": 36,
   "id": "27d71123",
   "metadata": {},
   "outputs": [
    {
     "name": "stdout",
     "output_type": "stream",
     "text": [
      "[39  8 27 33 29 62 99 97 69 30 83 19  3 29 51 72 68  5 60 87 60 46 19 67\n",
      " 45 66 48 36 98 22]\n",
      "Mean of Vector is :  49.233333333333334\n"
     ]
    }
   ],
   "source": [
    "arr3= np.random.randint(0,100,30)\n",
    "print(arr3)\n",
    "print(\"Mean of Vector is : \",np.mean(arr3))"
   ]
  },
  {
   "cell_type": "code",
   "execution_count": null,
   "id": "4adf7b0f",
   "metadata": {},
   "outputs": [],
   "source": []
  }
 ],
 "metadata": {
  "kernelspec": {
   "display_name": "Python 3 (ipykernel)",
   "language": "python",
   "name": "python3"
  },
  "language_info": {
   "codemirror_mode": {
    "name": "ipython",
    "version": 3
   },
   "file_extension": ".py",
   "mimetype": "text/x-python",
   "name": "python",
   "nbconvert_exporter": "python",
   "pygments_lexer": "ipython3",
   "version": "3.9.13"
  }
 },
 "nbformat": 4,
 "nbformat_minor": 5
}
